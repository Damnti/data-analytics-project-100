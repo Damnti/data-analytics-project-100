{
 "cells": [
  {
   "cell_type": "markdown",
   "id": "c822ee08-2810-4926-84b2-b93fe29a3ad1",
   "metadata": {},
   "source": [
    "<h1>Проект: Дашборд конверсий</h1>"
   ]
  },
  {
   "cell_type": "markdown",
   "id": "f413cbf2-4b4d-45d0-8ede-60397ae585dd",
   "metadata": {},
   "source": [
    "<h2>1. Импорт библиотек</h2>"
   ]
  },
  {
   "cell_type": "code",
   "execution_count": 3,
   "id": "e74b0f60-b627-4fcc-885a-84b0e34f8f35",
   "metadata": {},
   "outputs": [],
   "source": [
    "import pandas as pd\n",
    "import os\n",
    "import matplotlib.pyplot as plt\n",
    "import matplotlib.dates as mdates\n",
    "import seaborn as sns\n",
    "import requests as rq\n",
    "from dotenv import load_dotenv"
   ]
  },
  {
   "cell_type": "markdown",
   "id": "0e08bbae-657f-4560-ad31-d0412674c050",
   "metadata": {},
   "source": [
    "<h2>2. API-запросы: регистрации и визиты пользователей</h2>"
   ]
  },
  {
   "cell_type": "markdown",
   "id": "6cfe69c2-5ec3-48cc-8c61-3efddeacf708",
   "metadata": {},
   "source": [
    "<h3>2.1 Загрузка переменных окружения</h3>"
   ]
  },
  {
   "cell_type": "code",
   "execution_count": 5,
   "id": "bca35298-7fdc-4239-b9bc-847edaddaa41",
   "metadata": {},
   "outputs": [],
   "source": [
    "load_dotenv()\n",
    "\n",
    "DATE_BEGIN = os.getenv('DATE_BEGIN')\n",
    "DATE_END = os.getenv('DATE_END')\n",
    "API_URL = os.getenv('API_URL')"
   ]
  },
  {
   "cell_type": "markdown",
   "id": "53691c71-8efb-4720-8514-b6612e7c04b8",
   "metadata": {},
   "source": [
    "<h3>2.2 Запрос данных и преобразование в DataFrame</h3>"
   ]
  },
  {
   "cell_type": "code",
   "execution_count": null,
   "id": "25251f4f-d80b-4fe4-90bc-0330a9501f42",
   "metadata": {},
   "outputs": [],
   "source": [
    "regs = rq.get(f'{API_URL}/registrations', params={'begin': DATE_BEGIN, 'end': DATE_END})\n",
    "visits = rq.get(f'{API_URL}/visits', params={'begin': DATE_BEGIN, 'end': DATE_END})\n",
    "\n",
    "df_regs = pd.DataFrame(regs.json())\n",
    "df_visits = pd.DataFrame(visits.json())"
   ]
  },
  {
   "cell_type": "markdown",
   "id": "aaeb12b0-b6e4-45da-81e7-11c8aba03f87",
   "metadata": {},
   "source": [
    "<h2>3. Агрегируем данные для визуализации</h2>"
   ]
  },
  {
   "cell_type": "markdown",
   "id": "653f1118-e52f-4e9a-9ee3-404fbf88a528",
   "metadata": {},
   "source": [
    "<h3>3.1 Фильтрация данных по визитам и группировка по датам и платформам</h3>"
   ]
  },
  {
   "cell_type": "code",
   "execution_count": null,
   "id": "418e9200-79f4-4dab-8f56-1b3440f363f4",
   "metadata": {},
   "outputs": [],
   "source": [
    "def clean_and_group_visits(df):\n",
    "    df = df.copy()\n",
    "    df['date_group'] = pd.to_datetime(df['datetime']).dt.floor('D')\n",
    "    \n",
    "    df_grouped = (\n",
    "        df\n",
    "        .sort_values('date_group')\n",
    "        .drop_duplicates('visit_id', keep='last')\n",
    "        .query(\"user_agent != 'bot'\")\n",
    "        .groupby(['date_group', 'platform'])\n",
    "        .size()\n",
    "        .reset_index(name='visits')\n",
    "    )\n",
    "    return df_grouped\n",
    "\n",
    "df_visits_grouped = clean_and_group_visits(df_visits)"
   ]
  },
  {
   "cell_type": "markdown",
   "id": "27158f84-c5fd-4712-9cae-056bb0f97933",
   "metadata": {},
   "source": [
    "<h3>3.2 Фильтрация данных по регистрации и группировка по датам и платформам</h3>"
   ]
  },
  {
   "cell_type": "code",
   "execution_count": null,
   "id": "ad1f8413-a1e2-4cdb-af4d-9fea1ee65ef8",
   "metadata": {},
   "outputs": [],
   "source": [
    "def clean_and_group_reg(df):\n",
    "    df = df.copy()\n",
    "    df['date_group'] = pd.to_datetime(df['datetime']).dt.floor('D')\n",
    "    \n",
    "    df_grouped = (\n",
    "        df\n",
    "        .sort_values('date_group')\n",
    "        .drop_duplicates('user_id', keep='last')\n",
    "        .groupby(['date_group', 'platform'])\n",
    "        .size()\n",
    "        .reset_index(name='registrations')\n",
    "    )\n",
    "    return df_grouped\n",
    "\n",
    "df_regs_grouped = clean_and_group_reg(df_regs)\n",
    "df_regs_grouped.head(20)"
   ]
  },
  {
   "cell_type": "markdown",
   "id": "c24d9a00-fc14-4492-a829-1234dc8efd10",
   "metadata": {},
   "source": [
    "<h3>3.3 Объединение датасетов посещений и регистраций, расчет конверсии</h3>"
   ]
  },
  {
   "cell_type": "code",
   "execution_count": null,
   "id": "fd061245-304c-4505-b386-0b48b6362d19",
   "metadata": {},
   "outputs": [],
   "source": [
    "def merge_visits_regs(df1, df2):\n",
    "    merged_df = pd.merge(df1, df2, on=['date_group', 'platform'])\n",
    "    merged_df['conversion'] = (merged_df['registrations'] / merged_df['visits']) * 100\n",
    "    merged_df.to_json('./conversion.json')\n",
    "    return merged_df\n",
    "\n",
    "df_merged_visits_regs = merge_visits_regs(df_regs_grouped, df_visits_grouped)"
   ]
  },
  {
   "cell_type": "markdown",
   "id": "af0bdbcb-8567-4f70-97e1-51736228face",
   "metadata": {},
   "source": [
    "<h3>3.4 Добавление и подготовка данных по рекламным кампаниям из файла ads.csv</h3>"
   ]
  },
  {
   "cell_type": "code",
   "execution_count": null,
   "id": "5090e7e6-fb2b-4683-a086-c4581ee9ef8f",
   "metadata": {},
   "outputs": [],
   "source": [
    "ads = pd.read_csv('./ads.csv')\n",
    "\n",
    "def clean_ads(df):\n",
    "    df = df.copy()\n",
    "    df['date'] = pd.to_datetime(df['date']).dt.floor('D')\n",
    "    df.rename(columns={'date': 'date_group'}, inplace=True)\n",
    "\n",
    "    df['cost'] = df['cost'].fillna(0)\n",
    "    df['utm_campaign'] = df['utm_campaign'].fillna('none')\n",
    "\n",
    "    return df\n",
    "\n",
    "df_ads_cleaned = clean_ads(ads)"
   ]
  },
  {
   "cell_type": "markdown",
   "id": "7e5ac445-dceb-461f-95b5-ce13cd537202",
   "metadata": {},
   "source": [
    "<h3>3.5 Объединение датасетов расчета конверсии и рекламных кампаний</h3>"
   ]
  },
  {
   "cell_type": "code",
   "execution_count": null,
   "id": "29909ec5-afa1-4e88-bce0-523ac98c38b9",
   "metadata": {},
   "outputs": [],
   "source": [
    "def aggregate_all(df1, df2):\n",
    "    df_merged = pd.merge(df1, df2, on=['date_group'], how='left')\n",
    "    \n",
    "    df_merged['cost'] = df_merged['cost'].fillna(0)\n",
    "    df_merged['utm_campaign'] = df_merged['utm_campaign'].fillna('none')\n",
    "\n",
    "    aggregated = (\n",
    "        df_merged\n",
    "        .sort_values('date_group')\n",
    "        .groupby(['date_group', 'utm_campaign'], as_index=False)\n",
    "        .agg({\n",
    "            'visits': 'sum', \n",
    "            'registrations': 'sum', \n",
    "            'cost': 'mean'\n",
    "        })\n",
    "    )\n",
    "\n",
    "    aggregated = aggregated[['date_group', 'visits', 'registrations', 'cost', 'utm_campaign']]\n",
    "    aggregated.to_json('./ads.json')\n",
    "    \n",
    "    return aggregated\n",
    "\n",
    "df_final = aggregate_all(df_merged_visits_regs, df_ads_cleaned)\n",
    "df_final.head(300)"
   ]
  },
  {
   "cell_type": "markdown",
   "id": "05608fac-eae0-430c-93d7-9b91f3d23b57",
   "metadata": {},
   "source": [
    "<h2>4. Визуализация </h2>"
   ]
  },
  {
   "cell_type": "markdown",
   "id": "0f2f4924-0368-4cdb-8825-bf0650eea972",
   "metadata": {},
   "source": [
    "<h3>4.1 Подготовка данных для визуализации</h3>"
   ]
  },
  {
   "cell_type": "code",
   "execution_count": null,
   "id": "eecc61d0-86c7-411a-af57-4863401d8a46",
   "metadata": {},
   "outputs": [],
   "source": [
    "def vis_preparation(df):\n",
    "    df_weekly = df.copy()\n",
    "    \n",
    "    df_weekly['date_group'] = pd.to_datetime(df_weekly['date_group']).dt.to_period('W').dt.start_time\n",
    "    \n",
    "    df_weekly_visits = (\n",
    "        df_weekly\n",
    "        .sort_values('date_group')\n",
    "        .groupby('date_group')\n",
    "        .agg({\n",
    "            'visits': 'sum', \n",
    "            'registrations': 'sum', \n",
    "        })\n",
    "        .reset_index()\n",
    "    )\n",
    "\n",
    "    df_weekly_platforms = (\n",
    "        df_weekly\n",
    "        .sort_values('date_group')\n",
    "        .groupby(['date_group', 'platform'])\n",
    "        .agg({\n",
    "            'visits': 'sum', \n",
    "            'registrations': 'sum',\n",
    "        })\n",
    "        .reset_index()\n",
    "    )\n",
    "    \n",
    "    df_weekly_platforms['conversion'] = (df_weekly_platforms['registrations'] / df_weekly_platforms['visits']) * 100\n",
    "\n",
    "    return df_weekly_visits, df_weekly_platforms\n",
    "\n",
    "visits_weekly, visits_platforms_weekly = vis_preparation(df_merged_visits_regs)\n",
    "\n",
    "#Создаём папку для графиков, если её нет\n",
    "if not os.path.exists('charts'):\n",
    "    os.makedirs('./charts')"
   ]
  },
  {
   "cell_type": "markdown",
   "id": "399ac8ca-a9a6-40ac-8b7a-6d32e0267604",
   "metadata": {},
   "source": [
    "<h3>4.2 Визиты</h3>"
   ]
  },
  {
   "cell_type": "code",
   "execution_count": null,
   "id": "1b58426e-8030-4d71-bc6c-d7e5752a2cac",
   "metadata": {},
   "outputs": [],
   "source": [
    "def visits_total(df):\n",
    "    fig, ax = plt.subplots(figsize=(14, 7))\n",
    "    \n",
    "    ax.bar(df['date_group'], df['visits'], color='blue', width=5)\n",
    "\n",
    "    ax.set_xticks(df['date_group'])\n",
    "    ax.xaxis.set_major_formatter(mdates.DateFormatter('%d.%m'))\n",
    "    \n",
    "    plt.title('Total visits', fontsize=16)\n",
    "    plt.xlabel('Date', fontsize=14)\n",
    "    plt.ylabel('Visits', fontsize=14)    \n",
    "    plt.xticks(rotation=45)\n",
    "    plt.grid(axis='y')\n",
    "    plt.tight_layout()\n",
    "    plt.savefig('./charts/total_visits.png')\n",
    "    plt.close()\n",
    "\n",
    "visits_total(visits_weekly)"
   ]
  },
  {
   "cell_type": "markdown",
   "id": "7a71cef4-b83e-4de3-8f4e-eb5ab88cc6e2",
   "metadata": {},
   "source": [
    "<h3>4.3 Визиты с разбивкой по платформам</h3>"
   ]
  },
  {
   "cell_type": "code",
   "execution_count": null,
   "id": "955d27bb-9728-46a0-99e1-6ebda51986bc",
   "metadata": {},
   "outputs": [],
   "source": [
    "def visits_platform_total(df):\n",
    "    df_pivot = df.pivot_table(index='date_group', columns='platform', values='visits')\n",
    "    \n",
    "    ax = df_pivot.plot(kind='bar', stacked=True, figsize=(14,7), color=['#0072B2', '#009E73', '#D55E00'])\n",
    "    \n",
    "    ax.set_xticks(range(len(df_pivot.index)))\n",
    "    ax.set_xticklabels(df_pivot.index.strftime('%d.%m'))\n",
    "    \n",
    "    plt.title('Visits by Platform', fontsize=16)\n",
    "    plt.xlabel('Date', fontsize=14)\n",
    "    plt.ylabel('Visits', fontsize=14)\n",
    "    plt.xticks(rotation=45)\n",
    "    plt.grid(axis='y')\n",
    "    plt.tight_layout()\n",
    "    plt.savefig('./charts/Total_visits_platform.png')\n",
    "    plt.close()\n",
    "\n",
    "visits_platform_total(visits_platforms_weekly)"
   ]
  },
  {
   "cell_type": "markdown",
   "id": "2add8fe6-0575-4086-86a4-cfd398a1cd67",
   "metadata": {},
   "source": [
    "<h3>4.4 Регистрации</h3>"
   ]
  },
  {
   "cell_type": "code",
   "execution_count": null,
   "id": "02ee18b7-4689-4f9f-bb08-b9f900299eb4",
   "metadata": {},
   "outputs": [],
   "source": [
    "def regs_total(df):\n",
    "    fig, ax = plt.subplots(figsize=(14, 7))\n",
    "    ax.bar(df['date_group'], df['registrations'], color='#ff7f0e', width=5)\n",
    "\n",
    "    ax.set_xticks(df['date_group'])\n",
    "    ax.xaxis.set_major_formatter(mdates.DateFormatter('%d.%m'))\n",
    "    \n",
    "    plt.title('Total registrations', fontsize=16)\n",
    "    plt.xlabel('Date', fontsize=14)\n",
    "    plt.ylabel('Registrations', fontsize=14)\n",
    "    plt.xticks(rotation=45)\n",
    "    plt.grid(axis='y')\n",
    "    plt.tight_layout()\n",
    "    plt.savefig('./charts/Total_registration.png')\n",
    "    plt.close()\n",
    "\n",
    "regs_total(visits_weekly)"
   ]
  },
  {
   "cell_type": "markdown",
   "id": "28a3d02f-8cc2-499a-82b5-54547c08ad88",
   "metadata": {},
   "source": [
    "<h3>4.5 Регистрации с разбивкой по платформе</h3>"
   ]
  },
  {
   "cell_type": "code",
   "execution_count": null,
   "id": "bb417ac5-e0ee-41fc-a933-aeb84138a96a",
   "metadata": {},
   "outputs": [],
   "source": [
    "def regs_platform_total(df):\n",
    "    df_pivot = df.pivot_table(index='date_group', columns='platform', values='registrations')\n",
    "    \n",
    "    ax = df_pivot.plot(kind='bar', stacked=True, figsize=(14,7), color=['#0072B2', '#009E73', '#D55E00'])\n",
    "\n",
    "    ax.set_xticks(range(len(df_pivot.index)))\n",
    "    ax.set_xticklabels(df_pivot.index.strftime('%d.%m'))\n",
    "    \n",
    "    plt.title('Registrations by Platform', fontsize=16)\n",
    "    plt.xlabel('Date', fontsize=14)\n",
    "    plt.ylabel('Registrations', fontsize=14)\n",
    "    plt.xticks(rotation=45)\n",
    "    plt.grid(axis='y')\n",
    "    plt.tight_layout()\n",
    "    plt.savefig('./charts/Total_registrations_by_platform.png')\n",
    "    plt.close()\n",
    "\n",
    "regs_platform_total(visits_platforms_weekly)"
   ]
  },
  {
   "cell_type": "markdown",
   "id": "06ecaee5-8863-43d2-a8ca-2ca92aa5e3c9",
   "metadata": {},
   "source": [
    "<h3>4.6 Конверсия по каждой платформе</h3>"
   ]
  },
  {
   "cell_type": "code",
   "execution_count": null,
   "id": "6586ecbe-e005-4598-b664-68d2d169d07c",
   "metadata": {},
   "outputs": [],
   "source": [
    "def conversion_by_platform(df):\n",
    "    fig, ax = plt.subplots(figsize=(14, 7))\n",
    "\n",
    "    sns.lineplot(\n",
    "        data=df, \n",
    "        x='date_group', \n",
    "        y='conversion',\n",
    "        hue='platform',\n",
    "        palette={\n",
    "            'android': '#0072B2',\n",
    "            'ios': '#009E73',\n",
    "            'web': '#D55E00'\n",
    "        },\n",
    "        linewidth=3,\n",
    "        marker='o',\n",
    "        ax=ax\n",
    "    )\n",
    "\n",
    "    ax.set_xticks(df['date_group'])\n",
    "    ax.xaxis.set_major_formatter(mdates.DateFormatter('%d.%m'))\n",
    "    \n",
    "    plt.title('Conversion by Platform', fontsize=16)\n",
    "    plt.xlabel('Date', fontsize=14)\n",
    "    plt.ylabel('Conversion (%)', fontsize=14)\n",
    "    plt.xticks(rotation=45)\n",
    "    plt.grid(axis='y')\n",
    "    plt.legend(title='Platform', fontsize=12)\n",
    "    plt.tight_layout()\n",
    "    \n",
    "    plt.savefig('./charts/Conversion_by_platform.png', dpi=300)\n",
    "    plt.close()\n",
    "\n",
    "conversion_by_platform(visits_platforms_weekly)"
   ]
  },
  {
   "cell_type": "markdown",
   "id": "2d4e8186-049c-4da8-b7cc-1cec21b163a3",
   "metadata": {},
   "source": [
    "<h3>4.7 Средняя конверсия</h3>"
   ]
  },
  {
   "cell_type": "code",
   "execution_count": null,
   "id": "c31c36eb-4a56-443b-b0aa-c7825e9628e9",
   "metadata": {},
   "outputs": [],
   "source": [
    "def avg_conversion(df):\n",
    "    df_avg = df.copy()\n",
    "    df_avg = df_avg.groupby('date_group', as_index=False).agg({'conversion': 'mean'})\n",
    "    \n",
    "    fig, ax = plt.subplots(figsize=(14, 7))\n",
    "    \n",
    "    sns.lineplot(\n",
    "        data=df_avg, \n",
    "        x='date_group', \n",
    "        y='conversion',\n",
    "        color = '#66a61e',\n",
    "        marker='o'\n",
    "    )\n",
    "    \n",
    "    ax.set_xticks(df_avg['date_group'])\n",
    "    ax.xaxis.set_major_formatter(mdates.DateFormatter('%d.%m'))\n",
    "    \n",
    "    plt.title('Average Conversion', fontsize=16)\n",
    "    plt.xlabel('Date', fontsize=14)\n",
    "    plt.ylabel('Conversion (%)', fontsize=14)\n",
    "    plt.xticks(rotation=45)\n",
    "    plt.grid(axis='y')\n",
    "    plt.tight_layout()\n",
    "    \n",
    "    plt.savefig('./charts/Avg_conversion.png', dpi=300)\n",
    "    plt.close()\n",
    "\n",
    "avg_conversion(visits_platforms_weekly)"
   ]
  },
  {
   "cell_type": "markdown",
   "id": "6b855525-179f-47e8-aef1-74cb4eef4ac6",
   "metadata": {},
   "source": [
    "<h3>4.8 Стоимости реклам</h3>"
   ]
  },
  {
   "cell_type": "code",
   "execution_count": null,
   "id": "2a583814-eca6-485d-9c15-e1848bae8925",
   "metadata": {},
   "outputs": [],
   "source": [
    "def ads_cost(df):\n",
    "    df_ads = df.copy()\n",
    "    \n",
    "    df_ads['date_group'] = pd.to_datetime(df_ads['date_group']).dt.to_period('W').dt.start_time\n",
    "    df_ads = df_ads.groupby('date_group', as_index=False).agg({'cost': 'sum'})\n",
    "    \n",
    "    fig, ax = plt.subplots(figsize=(14, 7))\n",
    "\n",
    "    sns.lineplot(\n",
    "        data=df_ads, \n",
    "        x='date_group', \n",
    "        y='cost',\n",
    "        color = '#e6ac00',\n",
    "        marker='o'\n",
    "    )\n",
    "\n",
    "    ax.set_xticks(df_ads['date_group'])\n",
    "    ax.xaxis.set_major_formatter(mdates.DateFormatter('%d.%m'))\n",
    "    \n",
    "    plt.title('Aggregated Ad Campaign Costs', fontsize=16)\n",
    "    plt.xlabel('Date', fontsize=14)\n",
    "    plt.ylabel('Cost', fontsize=14)\n",
    "    plt.xticks(rotation=45)\n",
    "    plt.grid(axis='y')\n",
    "    plt.tight_layout()\n",
    "    \n",
    "    plt.savefig('./charts/Ad_cost.png')\n",
    "    plt.close()\n",
    "\n",
    "ads_cost(df_final)"
   ]
  },
  {
   "cell_type": "markdown",
   "id": "28de9947-6073-4c00-8962-a3e15d938a31",
   "metadata": {},
   "source": [
    "<h3>4.9 Визиты и регистрации с цветовым выделением рекламной кампании</h3>"
   ]
  },
  {
   "cell_type": "code",
   "execution_count": null,
   "id": "1e94dd8a-a2ad-4764-b415-4351bdcd00b2",
   "metadata": {},
   "outputs": [],
   "source": [
    "def vis_regist_campaign_chart(df):\n",
    "    df['date_group'] = pd.to_datetime(df['date_group'])\n",
    "    df['week_group'] = df['date_group'].dt.to_period('W').dt.start_time\n",
    "    \n",
    "    campaign_periods = (\n",
    "        df\n",
    "        .query(\"utm_campaign != 'none'\")\n",
    "        .groupby('utm_campaign', as_index=False)['date_group']\n",
    "        .agg(start_date='min', end_date='max')\n",
    "    )\n",
    "    \n",
    "    weekly_visits = df.groupby('week_group', as_index=False)['visits'].sum()\n",
    "    weekly_regs = df.groupby('week_group', as_index=False)['registrations'].sum()\n",
    "\n",
    "    #Цвета кампаний\n",
    "    campaign_colors = {\n",
    "    'advanced_algorithms_series': '#1f77b4',\n",
    "    'virtual_reality_workshop': '#ff7f0e',\n",
    "    'ui_ux_design_drive': '#2ca02c',\n",
    "    'women_in_tech_symposium': '#d62728',\n",
    "    'intro_to_python_course': '#9467bd'\n",
    "    }\n",
    "\n",
    "    fig, axes = plt.subplots(2, 1, figsize=(22, 20))\n",
    "\n",
    "    #График визитов\n",
    "    axes[0].plot(\n",
    "        weekly_visits['week_group'], \n",
    "        weekly_visits['visits'],\n",
    "        marker='o', \n",
    "        color='blue', \n",
    "        label='Visits', \n",
    "        linewidth=2, \n",
    "        markersize=6\n",
    "    )\n",
    "\n",
    "    axes[0].axhline(weekly_visits['visits'].mean(), color='gray', linestyle='dashed', label='Average visits')\n",
    "\n",
    "    #График регистраций\n",
    "    axes[1].plot(\n",
    "        weekly_regs['week_group'], \n",
    "        weekly_regs['registrations'], \n",
    "        marker='o', \n",
    "        color='#ff7f0e', \n",
    "        label='Registrations', \n",
    "        linewidth=2, \n",
    "        markersize=6\n",
    "    )\n",
    "    \n",
    "    axes[1].axhline(weekly_regs['registrations'].mean(), color='gray', linestyle='dashed', label='Average registrations')\n",
    "\n",
    "    #Заливка кампаний\n",
    "    for _, row in campaign_periods.iterrows():\n",
    "        color = campaign_colors.get(row['utm_campaign'])\n",
    "\n",
    "        axes[0].axvspan(row['start_date'], row['end_date'], alpha=0.3, color=color, label=row['utm_campaign'], zorder=0)\n",
    "        axes[1].axvspan(row['start_date'], row['end_date'], alpha=0.3, color=color, label=row['utm_campaign'], zorder=0)\n",
    "\n",
    "    #Оси и легенда\n",
    "    axes[0].set_title('Visits during marketing active days')\n",
    "    axes[0].set_ylabel('Visits')\n",
    "    axes[0].set_xticks(weekly_visits['week_group'])\n",
    "    axes[0].xaxis.set_major_formatter(mdates.DateFormatter('%d.%m'))\n",
    "    axes[0].tick_params(axis='x', labelrotation=45)\n",
    "    axes[0].legend()\n",
    "    axes[0].grid(True)\n",
    "    \n",
    "    axes[1].set_title('Registrations during marketing active days')\n",
    "    axes[1].set_ylabel('Users')\n",
    "    axes[1].set_xticks(weekly_regs['week_group'])\n",
    "    axes[1].xaxis.set_major_formatter(mdates.DateFormatter('%d.%m'))\n",
    "    axes[1].tick_params(axis='x', labelrotation=45)\n",
    "    axes[1].legend()\n",
    "    axes[1].grid(True)\n",
    "\n",
    "    plt.tight_layout()\n",
    "    \n",
    "    plt.savefig('./charts/Visits_and_registrations_chart.png')\n",
    "\n",
    "vis_regist_campaign_chart(df_final)"
   ]
  }
 ],
 "metadata": {
  "kernelspec": {
   "display_name": "Python [conda env:base] *",
   "language": "python",
   "name": "conda-base-py"
  },
  "language_info": {
   "codemirror_mode": {
    "name": "ipython",
    "version": 3
   },
   "file_extension": ".py",
   "mimetype": "text/x-python",
   "name": "python",
   "nbconvert_exporter": "python",
   "pygments_lexer": "ipython3",
   "version": "3.12.7"
  }
 },
 "nbformat": 4,
 "nbformat_minor": 5
}
